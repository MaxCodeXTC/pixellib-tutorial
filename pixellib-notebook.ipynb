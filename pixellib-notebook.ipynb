{
  "nbformat": 4,
  "nbformat_minor": 0,
  "metadata": {
    "colab": {
      "name": "PixelLib.ipynb",
      "provenance": [],
      "collapsed_sections": []
    },
    "kernelspec": {
      "name": "python3",
      "display_name": "Python 3"
    }
  },
  "cells": [
    {
      "cell_type": "code",
      "metadata": {
        "id": "qbmb46sKABc5"
      },
      "source": [
        "!pip3 install pixellib --upgrade"
      ],
      "execution_count": null,
      "outputs": []
    },
    {
      "cell_type": "code",
      "metadata": {
        "id": "JFT-cXplE3fF"
      },
      "source": [
        "!wget https://github.com/ayoolaolafenwa/PixelLib/releases/download/1.1/deeplabv3_xception_tf_dim_ordering_tf_kernels.h5"
      ],
      "execution_count": null,
      "outputs": []
    },
    {
      "cell_type": "code",
      "metadata": {
        "id": "DqKntJOw2hsG"
      },
      "source": [
        "import pixellib\n",
        "from pixellib.tune_bg import alter_bg\n",
        "from matplotlib import pyplot as plt\n",
        "import numpy as np\n",
        "from PIL import Image\n",
        "from IPython.display import Image as img\n",
        "from pylab import rcParams"
      ],
      "execution_count": null,
      "outputs": []
    },
    {
      "cell_type": "code",
      "metadata": {
        "id": "RkX6xITp4xav"
      },
      "source": [
        "rcParams['figure.figsize'] = 10, 10"
      ],
      "execution_count": null,
      "outputs": []
    },
    {
      "cell_type": "code",
      "metadata": {
        "id": "pLP_0UaHBEFI"
      },
      "source": [
        "change_bg = alter_bg()"
      ],
      "execution_count": null,
      "outputs": []
    },
    {
      "cell_type": "code",
      "metadata": {
        "id": "SA8lLOdNE5xd"
      },
      "source": [
        "dir(change_bg)"
      ],
      "execution_count": null,
      "outputs": []
    },
    {
      "cell_type": "code",
      "metadata": {
        "id": "uXcS5T3BBEIF"
      },
      "source": [
        "change_bg.load_pascalvoc_model(\"deeplabv3_xception_tf_dim_ordering_tf_kernels.h5\")"
      ],
      "execution_count": null,
      "outputs": []
    },
    {
      "cell_type": "code",
      "metadata": {
        "id": "ZsdNdqPcFcxe"
      },
      "source": [
        "file_name = \"image.jpg\"\n",
        "bg_file_name = \"background_img.jpg\""
      ],
      "execution_count": null,
      "outputs": []
    },
    {
      "cell_type": "markdown",
      "metadata": {
        "id": "Ga5WlY2U6ygk"
      },
      "source": [
        "# Original Images"
      ]
    },
    {
      "cell_type": "code",
      "metadata": {
        "id": "MZlrNJduF-Aq"
      },
      "source": [
        "plt.imshow(Image.open(file_name))"
      ],
      "execution_count": null,
      "outputs": []
    },
    {
      "cell_type": "code",
      "metadata": {
        "id": "8KmogvOz6v8T"
      },
      "source": [
        "plt.imshow(Image.open(bg_file_name))"
      ],
      "execution_count": null,
      "outputs": []
    },
    {
      "cell_type": "markdown",
      "metadata": {
        "id": "Y8nGrcao63Yd"
      },
      "source": [
        "# Blur Background"
      ]
    },
    {
      "cell_type": "code",
      "metadata": {
        "id": "fh9AojUeBL8s"
      },
      "source": [
        "change_bg.blur_bg(file_name, \n",
        "                  moderate = True , \n",
        "                  output_image_name=\"blur_img.jpg\")"
      ],
      "execution_count": null,
      "outputs": []
    },
    {
      "cell_type": "code",
      "metadata": {
        "id": "AFNKj1GR2RVU"
      },
      "source": [
        "plt.imshow(Image.open(\"blur_img.jpg\"))"
      ],
      "execution_count": null,
      "outputs": []
    },
    {
      "cell_type": "markdown",
      "metadata": {
        "id": "5Eldf6vK67w7"
      },
      "source": [
        "# Gray Background"
      ]
    },
    {
      "cell_type": "code",
      "metadata": {
        "id": "FyPNQ-zWBL_q"
      },
      "source": [
        "change_bg.gray_bg(file_name, \n",
        "                  output_image_name=\"gray_img.jpg\")"
      ],
      "execution_count": null,
      "outputs": []
    },
    {
      "cell_type": "code",
      "metadata": {
        "id": "KnNe7lj35O8W"
      },
      "source": [
        "plt.imshow(Image.open(\"gray_img.jpg\"))"
      ],
      "execution_count": null,
      "outputs": []
    },
    {
      "cell_type": "markdown",
      "metadata": {
        "id": "PKye4pnw6_tC"
      },
      "source": [
        "# Background Colour Change"
      ]
    },
    {
      "cell_type": "code",
      "metadata": {
        "id": "oYFdcRUfCor2"
      },
      "source": [
        "change_bg.color_bg(file_name, \n",
        "                   colors = (123, 123, 123), \n",
        "                   output_image_name=\"colored_bg.jpg\")"
      ],
      "execution_count": null,
      "outputs": []
    },
    {
      "cell_type": "code",
      "metadata": {
        "id": "tjHCM4cFFFxc"
      },
      "source": [
        "plt.imshow(Image.open(\"colored_bg.jpg\"))"
      ],
      "execution_count": null,
      "outputs": []
    },
    {
      "cell_type": "markdown",
      "metadata": {
        "id": "D8PhGfde7Crd"
      },
      "source": [
        "# Background Change"
      ]
    },
    {
      "cell_type": "code",
      "metadata": {
        "id": "amC623Ud5BS0"
      },
      "source": [
        "change_bg.change_bg_img(f_image_path = file_name,\n",
        "                        b_image_path = bg_file_name, \n",
        "                        output_image_name=\"new_img.jpg\")"
      ],
      "execution_count": null,
      "outputs": []
    },
    {
      "cell_type": "code",
      "metadata": {
        "id": "OHvoo6U2523c"
      },
      "source": [
        "plt.imshow(Image.open(\"new_img.jpg\"))"
      ],
      "execution_count": null,
      "outputs": []
    }
  ]
}